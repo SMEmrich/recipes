{
 "cells": [
  {
   "cell_type": "code",
   "execution_count": 24,
   "id": "c999a038",
   "metadata": {},
   "outputs": [],
   "source": [
    "myString = 'Hello world'"
   ]
  },
  {
   "cell_type": "code",
   "execution_count": 25,
   "id": "1981f862",
   "metadata": {},
   "outputs": [
    {
     "data": {
      "text/plain": [
       "11"
      ]
     },
     "execution_count": 25,
     "metadata": {},
     "output_type": "execute_result"
    }
   ],
   "source": [
    "len(myString)"
   ]
  },
  {
   "cell_type": "code",
   "execution_count": 26,
   "id": "cafa1afe",
   "metadata": {},
   "outputs": [
    {
     "data": {
      "text/plain": [
       "'ello'"
      ]
     },
     "execution_count": 26,
     "metadata": {},
     "output_type": "execute_result"
    }
   ],
   "source": [
    "myString[1:5]"
   ]
  },
  {
   "cell_type": "code",
   "execution_count": 27,
   "id": "38dd7583",
   "metadata": {},
   "outputs": [
    {
     "data": {
      "text/plain": [
       "'Hello world'"
      ]
     },
     "execution_count": 27,
     "metadata": {},
     "output_type": "execute_result"
    }
   ],
   "source": [
    "myString"
   ]
  },
  {
   "cell_type": "code",
   "execution_count": 28,
   "id": "f159fd1c",
   "metadata": {},
   "outputs": [],
   "source": [
    "x = [1, 2]"
   ]
  },
  {
   "cell_type": "code",
   "execution_count": 29,
   "id": "7fbac98a",
   "metadata": {},
   "outputs": [
    {
     "data": {
      "text/plain": [
       "[1, 2]"
      ]
     },
     "execution_count": 29,
     "metadata": {},
     "output_type": "execute_result"
    }
   ],
   "source": [
    "x"
   ]
  },
  {
   "cell_type": "code",
   "execution_count": 31,
   "id": "f0d3f38a",
   "metadata": {},
   "outputs": [],
   "source": [
    "x = []"
   ]
  },
  {
   "cell_type": "code",
   "execution_count": 32,
   "id": "67e1d60a",
   "metadata": {},
   "outputs": [
    {
     "data": {
      "text/plain": [
       "list"
      ]
     },
     "execution_count": 32,
     "metadata": {},
     "output_type": "execute_result"
    }
   ],
   "source": [
    "type(x)"
   ]
  },
  {
   "cell_type": "raw",
   "id": "0fc3d2ba",
   "metadata": {},
   "source": [
    "asdf;l ;lkajsf\n",
    "\n",
    "this is just plain text"
   ]
  },
  {
   "cell_type": "code",
   "execution_count": null,
   "id": "02d20811",
   "metadata": {},
   "outputs": [],
   "source": []
  },
  {
   "cell_type": "markdown",
   "id": "a9194d22",
   "metadata": {},
   "source": [
    "# This is a new section of markdown text\n",
    "\n",
    "**now this is bold**\n",
    "\n",
    "Now here is a thing I'm going to do to tell you about some of my text"
   ]
  },
  {
   "cell_type": "markdown",
   "id": "6ab9d2cb",
   "metadata": {},
   "source": [
    "`z = 1`"
   ]
  },
  {
   "cell_type": "code",
   "execution_count": 33,
   "id": "93ba9256",
   "metadata": {},
   "outputs": [
    {
     "name": "stdout",
     "output_type": "stream",
     "text": [
      "['apple', 'banana', 'cherry', 'kiwi', 'orange']\n"
     ]
    }
   ],
   "source": [
    "thislist = [\"apple\", \"banana\", \"cherry\"]\n",
    "thistuple = (\"kiwi\", \"orange\")\n",
    "thislist.extend(thistuple)\n",
    "print(thislist)"
   ]
  },
  {
   "cell_type": "code",
   "execution_count": 34,
   "id": "cf1072fa",
   "metadata": {},
   "outputs": [],
   "source": [
    "thislist.clear()"
   ]
  },
  {
   "cell_type": "code",
   "execution_count": 35,
   "id": "d3a7918c",
   "metadata": {},
   "outputs": [
    {
     "data": {
      "text/plain": [
       "[]"
      ]
     },
     "execution_count": 35,
     "metadata": {},
     "output_type": "execute_result"
    }
   ],
   "source": [
    "thislist"
   ]
  },
  {
   "cell_type": "code",
   "execution_count": 36,
   "id": "2ab314a7",
   "metadata": {},
   "outputs": [
    {
     "data": {
      "text/plain": [
       "False"
      ]
     },
     "execution_count": 36,
     "metadata": {},
     "output_type": "execute_result"
    }
   ],
   "source": [
    "bool(thislist)"
   ]
  },
  {
   "cell_type": "markdown",
   "id": "0ae15e38",
   "metadata": {},
   "source": [
    "*let's create an If statement here:*"
   ]
  },
  {
   "cell_type": "code",
   "execution_count": 41,
   "id": "30e8b9fa",
   "metadata": {},
   "outputs": [
    {
     "name": "stdout",
     "output_type": "stream",
     "text": [
      "b is less than a\n"
     ]
    }
   ],
   "source": [
    "a = 200\n",
    "b = 33\n",
    "if b < a:\n",
    "    print(\"b is less than a\")\n",
    "elif a == b:\n",
    "    print()"
   ]
  },
  {
   "cell_type": "code",
   "execution_count": 42,
   "id": "22506111",
   "metadata": {},
   "outputs": [
    {
     "name": "stdout",
     "output_type": "stream",
     "text": [
      "/Users/semrich\r\n"
     ]
    }
   ],
   "source": [
    "!pwd"
   ]
  },
  {
   "cell_type": "code",
   "execution_count": 1,
   "id": "296ec5fb",
   "metadata": {},
   "outputs": [
    {
     "name": "stdout",
     "output_type": "stream",
     "text": [
      "On branch master\r\n",
      "Your branch is up to date with 'origin/master'.\r\n",
      "\r\n",
      "Untracked files:\r\n",
      "  (use \"git add <file>...\" to include in what will be committed)\r\n",
      "\t\u001b[31mtest-Copy1.ipynb\u001b[m\r\n",
      "\r\n",
      "nothing added to commit but untracked files present (use \"git add\" to track)\r\n"
     ]
    }
   ],
   "source": [
    "!git status"
   ]
  },
  {
   "cell_type": "code",
   "execution_count": 2,
   "id": "626be0d4",
   "metadata": {},
   "outputs": [],
   "source": [
    "!git add test-Copy1.ipynb"
   ]
  },
  {
   "cell_type": "code",
   "execution_count": 5,
   "id": "d7af91bf",
   "metadata": {},
   "outputs": [
    {
     "name": "stderr",
     "output_type": "stream",
     "text": [
      "UsageError: Line magic function `%git` not found.\n"
     ]
    }
   ],
   "source": [
    "%git commit -m \"committing test notebook from notebooks\""
   ]
  },
  {
   "cell_type": "code",
   "execution_count": 6,
   "id": "407c3fb1",
   "metadata": {},
   "outputs": [
    {
     "name": "stdout",
     "output_type": "stream",
     "text": [
      "error: src refspec main does not match any\r\n",
      "\u001b[31merror: failed to push some refs to 'github.com:SMEmrich/recipes.git'\r\n",
      "\u001b[m"
     ]
    }
   ],
   "source": [
    "!git push origin main"
   ]
  },
  {
   "cell_type": "code",
   "execution_count": null,
   "id": "19b41228",
   "metadata": {},
   "outputs": [],
   "source": []
  }
 ],
 "metadata": {
  "kernelspec": {
   "display_name": "Python 3",
   "language": "python",
   "name": "python3"
  },
  "language_info": {
   "codemirror_mode": {
    "name": "ipython",
    "version": 3
   },
   "file_extension": ".py",
   "mimetype": "text/x-python",
   "name": "python",
   "nbconvert_exporter": "python",
   "pygments_lexer": "ipython3",
   "version": "3.8.8"
  }
 },
 "nbformat": 4,
 "nbformat_minor": 5
}
